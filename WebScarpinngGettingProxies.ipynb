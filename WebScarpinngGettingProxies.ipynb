{
  "nbformat": 4,
  "nbformat_minor": 0,
  "metadata": {
    "colab": {
      "provenance": []
    },
    "kernelspec": {
      "name": "python3",
      "display_name": "Python 3"
    },
    "language_info": {
      "name": "python"
    }
  },
  "cells": [
    {
      "cell_type": "code",
      "execution_count": 2,
      "metadata": {
        "id": "cNsB157gzPO-"
      },
      "outputs": [],
      "source": [
        "import requests\n",
        "import random\n",
        "from bs4 import BeautifulSoup as bs4\n",
        "import traceback"
      ]
    },
    {
      "cell_type": "code",
      "source": [
        "pr = \"https://free-proxy-list.net\"\n",
        "def get_free_proxies(url):\n",
        "  #geting the content with BS4\n",
        "  soup = bs4(requests.get(pr).content, 'html.parser')\n",
        "\n",
        "  #storing the proxies\n",
        "  proxies = []\n",
        "\n",
        "  for i in soup.find(\"div\",attrs={'class': \"table-responsive fpl-list\"}).find_all(\"tr\")[1:]:\n",
        "      tds = i.find_all(\"td\")\n",
        "\n",
        "      try:\n",
        "        ip = tds[0].text.strip()\n",
        "        port = tds[1].text.strip()\n",
        "        proxies.append(str(ip)  + \":\" + str(port))\n",
        "      except IndexError:\n",
        "        continue\n",
        "\n",
        "  return proxies\n",
        "\n",
        "proxies = get_free_proxies(pr)\n"
      ],
      "metadata": {
        "id": "su5rwqHhzePk"
      },
      "execution_count": 3,
      "outputs": []
    },
    {
      "cell_type": "code",
      "source": [
        "url = \"http://httpbin.org/ip\"\n",
        "\n",
        "for i in range(len(proxies)):\n",
        "  print(\"request number: \", i+1)\n",
        "\n",
        "  proxy = proxies[i]\n",
        "\n",
        "  try:\n",
        "    response = requests.get(url, proxies = {\"http\":proxy, \"https\":proxy})\n",
        "    print(response.json())\n",
        "  except:\n",
        "    print(\"Indisponivel\")\n",
        "  break"
      ],
      "metadata": {
        "colab": {
          "base_uri": "https://localhost:8080/"
        },
        "id": "0Dfh-IVS3aWp",
        "outputId": "a0d810c2-722d-4ca3-f95a-c8b8654c0ec3"
      },
      "execution_count": 4,
      "outputs": [
        {
          "output_type": "stream",
          "name": "stdout",
          "text": [
            "request number:  1\n",
            "{'origin': '217.182.210.152'}\n"
          ]
        }
      ]
    },
    {
      "cell_type": "code",
      "source": [],
      "metadata": {
        "id": "Z27ztAfW-otK"
      },
      "execution_count": null,
      "outputs": []
    }
  ]
}